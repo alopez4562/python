{
 "cells": [
  {
   "cell_type": "markdown",
   "metadata": {},
   "source": [
    "<div style=\"font-size: 200%; font-weight: bold; color: maroon;\">Machine Learning en Python: vuelos a Nueva York durante 2014</div>"
   ]
  },
  {
   "cell_type": "markdown",
   "metadata": {},
   "source": [
    "# Introducción\n",
    "\n",
    "A partir de una base de datos de vuelos internos a Nueva York en el año 2014, que cuenta con más de 250.000 registros de vuelos, se analizarán sus retrasos y se mostrarán gráficamente.\n",
    "\n",
    "Por último, se emplearán técnicas de *Machine Learning*, para construir un clasificador del tipo \"Random Forest\", que permitirá predecir si un vuelo sufrirá o no un \"retraso importante\"."
   ]
  },
  {
   "cell_type": "markdown",
   "metadata": {},
   "source": [
    "# Preparación\n",
    "\n",
    "En primer lugar, importamos las funciones de Python necesarias para este análisis y cargamos un DataFrame de datos de vuelos a Nueva York durante 2014."
   ]
  },
  {
   "cell_type": "code",
   "execution_count": 1,
   "metadata": {},
   "outputs": [],
   "source": [
    "from __future__ import print_function\n",
    "import numpy as np\n",
    "import pandas as pd"
   ]
  },
  {
   "cell_type": "code",
   "execution_count": 2,
   "metadata": {},
   "outputs": [],
   "source": [
    "flights = pd.read_csv( 'DATOS/flights14.csv.bz2' )"
   ]
  },
  {
   "cell_type": "code",
   "execution_count": 3,
   "metadata": {},
   "outputs": [
    {
     "data": {
      "text/plain": [
       "(253316, 17)"
      ]
     },
     "execution_count": 3,
     "metadata": {},
     "output_type": "execute_result"
    }
   ],
   "source": [
    "flights.shape"
   ]
  },
  {
   "cell_type": "markdown",
   "metadata": {},
   "source": [
    "La siguiente tabla muestra las columnas que tiene el DataFrame, y qué datos contienen:"
   ]
  },
  {
   "cell_type": "markdown",
   "metadata": {},
   "source": [
    "|columna|contenido\n",
    "| :- | :------------- |\n",
    "|`year`|fecha del vuelo (año)\n",
    "|`month`|fecha del vuelo (mes)\n",
    "|`day`|fecha del vuelo (día)\n",
    "|`dep_time`|hora real de salida\n",
    "|`dep_delay`|retraso en salida (minutos)\n",
    "|`arr_time`|hora de llegada\n",
    "|`arr_delay`|retraso en llegada (minutos)\n",
    "|`cancelled`|vuelo cancelado\n",
    "|`carrier`|compañía\n",
    "|`tailnum`|número de avión\n",
    "|`flight`|número de vuelo\n",
    "|`origin`|aeropuerto de origen\n",
    "|`dest`|aeropuerto de destino\n",
    "|`air_time`|tiempo de vuelo (minutos)\n",
    "|`distance`|distancia recorrida (millas)\n",
    "|`hour`|hora prevista de salida\n",
    "|`min`|minuto previsto de salida\n"
   ]
  },
  {
   "cell_type": "markdown",
   "metadata": {},
   "source": [
    "# 1. Análisis de retrasos"
   ]
  },
  {
   "cell_type": "markdown",
   "metadata": {},
   "source": [
    "## 1.1 Retraso importante\n",
    "\n",
    "Vamos a definir \"_retraso importante_\" como un retraso en la llegada del vuelo de más de una hora.\n",
    "\n",
    "Añadimos una columna con el nombre \"`retraso_importante`\" al DataFrame. La columna tendrá un valor booleano: `True` si el vuelo ha tenido más de una hora de retraso _en la llegada_ y `False` en caso contrario."
   ]
  },
  {
   "cell_type": "code",
   "execution_count": 4,
   "metadata": {},
   "outputs": [],
   "source": [
    "# Definición de retraso_importante en el dataframe\n",
    "flights.loc[:,'retraso_importante'] = flights.loc[:,'arr_delay']>60"
   ]
  },
  {
   "cell_type": "code",
   "execution_count": 5,
   "metadata": {},
   "outputs": [
    {
     "data": {
      "text/html": [
       "<div>\n",
       "<style scoped>\n",
       "    .dataframe tbody tr th:only-of-type {\n",
       "        vertical-align: middle;\n",
       "    }\n",
       "\n",
       "    .dataframe tbody tr th {\n",
       "        vertical-align: top;\n",
       "    }\n",
       "\n",
       "    .dataframe thead th {\n",
       "        text-align: right;\n",
       "    }\n",
       "</style>\n",
       "<table border=\"1\" class=\"dataframe\">\n",
       "  <thead>\n",
       "    <tr style=\"text-align: right;\">\n",
       "      <th></th>\n",
       "      <th>year</th>\n",
       "      <th>month</th>\n",
       "      <th>day</th>\n",
       "      <th>dep_time</th>\n",
       "      <th>dep_delay</th>\n",
       "      <th>arr_time</th>\n",
       "      <th>arr_delay</th>\n",
       "      <th>cancelled</th>\n",
       "      <th>carrier</th>\n",
       "      <th>tailnum</th>\n",
       "      <th>flight</th>\n",
       "      <th>origin</th>\n",
       "      <th>dest</th>\n",
       "      <th>air_time</th>\n",
       "      <th>distance</th>\n",
       "      <th>hour</th>\n",
       "      <th>min</th>\n",
       "      <th>retraso_importante</th>\n",
       "    </tr>\n",
       "  </thead>\n",
       "  <tbody>\n",
       "    <tr>\n",
       "      <th>0</th>\n",
       "      <td>2014</td>\n",
       "      <td>1</td>\n",
       "      <td>1</td>\n",
       "      <td>914</td>\n",
       "      <td>14</td>\n",
       "      <td>1238</td>\n",
       "      <td>13</td>\n",
       "      <td>0</td>\n",
       "      <td>AA</td>\n",
       "      <td>N338AA</td>\n",
       "      <td>1</td>\n",
       "      <td>JFK</td>\n",
       "      <td>LAX</td>\n",
       "      <td>359</td>\n",
       "      <td>2475</td>\n",
       "      <td>9</td>\n",
       "      <td>14</td>\n",
       "      <td>False</td>\n",
       "    </tr>\n",
       "    <tr>\n",
       "      <th>1</th>\n",
       "      <td>2014</td>\n",
       "      <td>1</td>\n",
       "      <td>1</td>\n",
       "      <td>1157</td>\n",
       "      <td>-3</td>\n",
       "      <td>1523</td>\n",
       "      <td>13</td>\n",
       "      <td>0</td>\n",
       "      <td>AA</td>\n",
       "      <td>N335AA</td>\n",
       "      <td>3</td>\n",
       "      <td>JFK</td>\n",
       "      <td>LAX</td>\n",
       "      <td>363</td>\n",
       "      <td>2475</td>\n",
       "      <td>11</td>\n",
       "      <td>57</td>\n",
       "      <td>False</td>\n",
       "    </tr>\n",
       "    <tr>\n",
       "      <th>2</th>\n",
       "      <td>2014</td>\n",
       "      <td>1</td>\n",
       "      <td>1</td>\n",
       "      <td>1902</td>\n",
       "      <td>2</td>\n",
       "      <td>2224</td>\n",
       "      <td>9</td>\n",
       "      <td>0</td>\n",
       "      <td>AA</td>\n",
       "      <td>N327AA</td>\n",
       "      <td>21</td>\n",
       "      <td>JFK</td>\n",
       "      <td>LAX</td>\n",
       "      <td>351</td>\n",
       "      <td>2475</td>\n",
       "      <td>19</td>\n",
       "      <td>2</td>\n",
       "      <td>False</td>\n",
       "    </tr>\n",
       "    <tr>\n",
       "      <th>3</th>\n",
       "      <td>2014</td>\n",
       "      <td>1</td>\n",
       "      <td>1</td>\n",
       "      <td>722</td>\n",
       "      <td>-8</td>\n",
       "      <td>1014</td>\n",
       "      <td>-26</td>\n",
       "      <td>0</td>\n",
       "      <td>AA</td>\n",
       "      <td>N3EHAA</td>\n",
       "      <td>29</td>\n",
       "      <td>LGA</td>\n",
       "      <td>PBI</td>\n",
       "      <td>157</td>\n",
       "      <td>1035</td>\n",
       "      <td>7</td>\n",
       "      <td>22</td>\n",
       "      <td>False</td>\n",
       "    </tr>\n",
       "    <tr>\n",
       "      <th>4</th>\n",
       "      <td>2014</td>\n",
       "      <td>1</td>\n",
       "      <td>1</td>\n",
       "      <td>1347</td>\n",
       "      <td>2</td>\n",
       "      <td>1706</td>\n",
       "      <td>1</td>\n",
       "      <td>0</td>\n",
       "      <td>AA</td>\n",
       "      <td>N319AA</td>\n",
       "      <td>117</td>\n",
       "      <td>JFK</td>\n",
       "      <td>LAX</td>\n",
       "      <td>350</td>\n",
       "      <td>2475</td>\n",
       "      <td>13</td>\n",
       "      <td>47</td>\n",
       "      <td>False</td>\n",
       "    </tr>\n",
       "  </tbody>\n",
       "</table>\n",
       "</div>"
      ],
      "text/plain": [
       "   year  month  day  dep_time  dep_delay  arr_time  arr_delay  cancelled  \\\n",
       "0  2014      1    1       914         14      1238         13          0   \n",
       "1  2014      1    1      1157         -3      1523         13          0   \n",
       "2  2014      1    1      1902          2      2224          9          0   \n",
       "3  2014      1    1       722         -8      1014        -26          0   \n",
       "4  2014      1    1      1347          2      1706          1          0   \n",
       "\n",
       "  carrier tailnum  flight origin dest  air_time  distance  hour  min  \\\n",
       "0      AA  N338AA       1    JFK  LAX       359      2475     9   14   \n",
       "1      AA  N335AA       3    JFK  LAX       363      2475    11   57   \n",
       "2      AA  N327AA      21    JFK  LAX       351      2475    19    2   \n",
       "3      AA  N3EHAA      29    LGA  PBI       157      1035     7   22   \n",
       "4      AA  N319AA     117    JFK  LAX       350      2475    13   47   \n",
       "\n",
       "   retraso_importante  \n",
       "0               False  \n",
       "1               False  \n",
       "2               False  \n",
       "3               False  \n",
       "4               False  "
      ]
     },
     "execution_count": 5,
     "metadata": {},
     "output_type": "execute_result"
    }
   ],
   "source": [
    "# Verficación que la nueva columna está incluida\n",
    "flights.head()"
   ]
  },
  {
   "cell_type": "markdown",
   "metadata": {},
   "source": [
    "## 1.2 Retrasos por compañía\n",
    "\n",
    "Contamos cuántos vuelos con \"retraso importante\" ha tenido cada compañía y ordenenamos el resultado, obteniendo la lista de compañías ordenadas por su número de retrasos importantes de mayor a menor."
   ]
  },
  {
   "cell_type": "code",
   "execution_count": 6,
   "metadata": {},
   "outputs": [
    {
     "data": {
      "text/plain": [
       "carrier\n",
       "EV    4595.0\n",
       "B6    3767.0\n",
       "UA    3642.0\n",
       "DL    2829.0\n",
       "AA    1852.0\n",
       "MQ    1446.0\n",
       "WN    1163.0\n",
       "US     718.0\n",
       "VX     325.0\n",
       "FL     133.0\n",
       "F9      76.0\n",
       "AS      39.0\n",
       "OO      19.0\n",
       "HA      19.0\n",
       "Name: retraso_importante, dtype: float64"
      ]
     },
     "execution_count": 6,
     "metadata": {},
     "output_type": "execute_result"
    }
   ],
   "source": [
    "# Agrupación y cálculo de retrasos por compañia\n",
    "groups = flights.groupby('carrier')\n",
    "\n",
    "retraso_aerolineas=groups['retraso_importante'].sum().sort_values(ascending=False)\n",
    "retraso_aerolineas"
   ]
  },
  {
   "cell_type": "markdown",
   "metadata": {},
   "source": [
    "Las tres compañias con más \"retrasos importantes\" en vuelos a Nueva York en 2014 fueron: EV (ExpressJet Airlines), B6 (Jetblue) y UA (United Airlines)."
   ]
  },
  {
   "cell_type": "markdown",
   "metadata": {},
   "source": [
    "# 2. Representación gráfica\n",
    "\n",
    "Representamos los resultados en dos gráficas, cada una con una nube de puntos tipo (_scatter_):\n",
    "* El retraso en la llegada (minutos) como función de la distancia recorrida (millas)\n",
    "* El retraso en la llegada (minutos) como función de la hora de salida (hhmm)"
   ]
  },
  {
   "cell_type": "code",
   "execution_count": 10,
   "metadata": {},
   "outputs": [],
   "source": [
    "# Importación de paquetes y preparación de los gráficos\n",
    "%matplotlib inline\n",
    "\n",
    "import matplotlib.pyplot as plt\n",
    "import matplotlib\n",
    "matplotlib.style.use('fivethirtyeight')\n",
    "matplotlib.rcParams['figure.figsize'] = (15, 6)"
   ]
  },
  {
   "cell_type": "code",
   "execution_count": 11,
   "metadata": {},
   "outputs": [
    {
     "data": {
      "image/png": "[encoded data removed]",
      "text/plain": [
       "<Figure size 1080x432 with 2 Axes>"
      ]
     },
     "metadata": {},
     "output_type": "display_data"
    }
   ],
   "source": [
    "# Creación de los gráficos\n",
    "fig, (ax1,ax2) = plt.subplots(1, 2, sharey=True)\n",
    "\n",
    "x1 = flights.distance\n",
    "x2 = flights.dep_time\n",
    "y = flights.arr_delay\n",
    "\n",
    "ax1.scatter(x1,y, c='r')\n",
    "ax2.scatter(x2,y, c='orange')\n",
    "\n",
    "fig.suptitle(\"Representación gráfica de vuelos con retraso\", fontsize=16)\n",
    "ax1.set_xlabel(\"Distancia recorrida (millas)\")\n",
    "ax2.set_xlabel(\"Hora de salida (hhmm)\")\n",
    "ax1.set_ylabel(\"Retraso en llegada (minutos)\")\n",
    "ax2.set_ylabel(\"Retraso en llegada (minutos)\")\n",
    "ax2.set_xticks([0, 600, 1200, 1800, 2400]);"
   ]
  },
  {
   "cell_type": "markdown",
   "metadata": {},
   "source": [
    "# 3. Machine Learning - Clasificación\n",
    "\n",
    "Vamos a entrenar un clasificador tipo \"Random Forest\" para que prediga si el vuelo tiene o no \"retraso importante\" en función de la distancia recorrida y la hora real de salida. La hora real de salida se calcula a partir de la hora prevista de salida más el retraso correspondiente.\n",
    "\n",
    "Para ello seleccionamos las columnas de _distancia recorrida_ y _hora real de salida_ como datos de entrada  y la columna creada de _retraso importante_ como dato de salida. A continuación, separamos los datos en conjunto de entrenamiento (75%) y conjunto de test (25%)."
   ]
  },
  {
   "cell_type": "code",
   "execution_count": 12,
   "metadata": {},
   "outputs": [],
   "source": [
    "# Carga de los paquetes \n",
    "from sklearn.model_selection import train_test_split\n",
    "\n",
    "# Cálculo hora real de salida (hora prevista + retraso)\n",
    "flights.loc[:,'hora_r_salida'] = flights.loc[:,'dep_time']+flights.loc[:,'dep_delay']\n",
    "\n",
    "# Selección de datos\n",
    "X=flights[['distance','hora_r_salida']]\n",
    "Y=flights['retraso_importante']\n",
    "\n",
    "# Separación de datos entrenamiento y test\n",
    "Xtrain, Xtest, Ytrain, Ytest = train_test_split( X, Y, test_size=0.25)"
   ]
  },
  {
   "cell_type": "markdown",
   "metadata": {},
   "source": [
    "Seguidamente entrenenamos un clasificador `RandomForest` con 100 árboles, usando el conjunto de entrenamiento."
   ]
  },
  {
   "cell_type": "code",
   "execution_count": 13,
   "metadata": {},
   "outputs": [],
   "source": [
    "# Carga y entrenamiento del Random Forest\n",
    "from sklearn.ensemble import RandomForestClassifier\n",
    "\n",
    "RF = RandomForestClassifier(n_estimators=100).fit( Xtrain, Ytrain )\n",
    "Ypred = RF.predict( Xtest )"
   ]
  },
  {
   "cell_type": "markdown",
   "metadata": {},
   "source": [
    "Por último calculamos sobre el conjunto de test: la exactitud (`accuracy`) y la matriz de confusión (`confusion matrix`)."
   ]
  },
  {
   "cell_type": "code",
   "execution_count": 14,
   "metadata": {},
   "outputs": [
    {
     "name": "stdout",
     "output_type": "stream",
     "text": [
      "Accuracy = 0.9261633690726208\n"
     ]
    }
   ],
   "source": [
    "# Cálculo de exactitud\n",
    "from sklearn.metrics import accuracy_score, confusion_matrix\n",
    "\n",
    "print( \"Accuracy =\", accuracy_score( Ytest, Ypred ) )"
   ]
  },
  {
   "cell_type": "code",
   "execution_count": 15,
   "metadata": {},
   "outputs": [
    {
     "name": "stdout",
     "output_type": "stream",
     "text": [
      "[[56654  1547]\n",
      " [ 3129  1999]]\n"
     ]
    }
   ],
   "source": [
    "# Cálculo matriz de confusión\n",
    "c=confusion_matrix( Ytest, Ypred )\n",
    "print(c)"
   ]
  },
  {
   "cell_type": "code",
   "execution_count": 16,
   "metadata": {},
   "outputs": [
    {
     "data": {
      "text/plain": [
       "58653"
      ]
     },
     "execution_count": 16,
     "metadata": {},
     "output_type": "execute_result"
    }
   ],
   "source": [
    "Aciertos=c[0,0]+c[1,1]\n",
    "Aciertos"
   ]
  },
  {
   "cell_type": "code",
   "execution_count": 17,
   "metadata": {},
   "outputs": [
    {
     "data": {
      "text/plain": [
       "4676"
      ]
     },
     "execution_count": 17,
     "metadata": {},
     "output_type": "execute_result"
    }
   ],
   "source": [
    "Fallos=c[0,1]+c[1,0]\n",
    "Fallos"
   ]
  },
  {
   "cell_type": "markdown",
   "metadata": {},
   "source": [
    "Se puede concluir que los resultados obtenidos con el clasificador `RandomForest` entrenado son bastante precisos. \n",
    "\n",
    "Del conjunto de datos de test se han obtenido un total de 58.653 aciertos y tan sólo 4.676 fallos, lo que supone más de un 92,6% de exactitud con los datos de los vuelos internos a Nueva York en el año 2014.\n",
    "\n",
    "Gracias a este modelo de Machine Learning podriamos predecir si nuestro vuelo a Nueva York puede sufrir un retraso importante."
   ]
  },
  {
   "cell_type": "markdown",
   "metadata": {},
   "source": [
    "## 4. Ejemplo de aplicación\n",
    "\n",
    "Supongamos que queremos predecir si nuestro próximo vuelo a Nueva York sufrirá o no un retraso importante.\n",
    "\n",
    "En este caso necesitaremos los datos de distancia y hora real de salida (en este caso usaríamos la hora prevista en el billete) y los introduciríamos en el modelo.\n",
    "\n",
    "Para ello vamos a usar de ejemplo un vuelo V1 con una distancia de 2500 millas que sale a las 9:30 y un vuelo V2 de 200 millas que despega a la 23:45."
   ]
  },
  {
   "cell_type": "code",
   "execution_count": 18,
   "metadata": {},
   "outputs": [],
   "source": [
    "V1 = [{'distance': 2500, 'hora_r_salida': 930}]"
   ]
  },
  {
   "cell_type": "code",
   "execution_count": 19,
   "metadata": {},
   "outputs": [],
   "source": [
    "V2 = [{'distance': 200, 'hora_r_salida': 2345}]"
   ]
  },
  {
   "cell_type": "code",
   "execution_count": 20,
   "metadata": {},
   "outputs": [],
   "source": [
    "dfV1 = pd.DataFrame(V1)"
   ]
  },
  {
   "cell_type": "code",
   "execution_count": 21,
   "metadata": {},
   "outputs": [],
   "source": [
    "dfV2 = pd.DataFrame(V2)"
   ]
  },
  {
   "cell_type": "code",
   "execution_count": 22,
   "metadata": {},
   "outputs": [],
   "source": [
    "YpredV1 = RF.predict( dfV1 )"
   ]
  },
  {
   "cell_type": "code",
   "execution_count": 23,
   "metadata": {},
   "outputs": [
    {
     "data": {
      "text/plain": [
       "array([False])"
      ]
     },
     "execution_count": 23,
     "metadata": {},
     "output_type": "execute_result"
    }
   ],
   "source": [
    "YpredV1"
   ]
  },
  {
   "cell_type": "code",
   "execution_count": 24,
   "metadata": {},
   "outputs": [],
   "source": [
    "YpredV2 = RF.predict( dfV2 )"
   ]
  },
  {
   "cell_type": "code",
   "execution_count": 25,
   "metadata": {},
   "outputs": [
    {
     "data": {
      "text/plain": [
       "array([ True])"
      ]
     },
     "execution_count": 25,
     "metadata": {},
     "output_type": "execute_result"
    }
   ],
   "source": [
    "YpredV2"
   ]
  },
  {
   "cell_type": "markdown",
   "metadata": {},
   "source": [
    "Si observamos los resultados finales, el modelo de Machine Learning ha sido capaz de predecir que el vuelo V2 sufrirá un retraso importante mientras que el vuelo V1 llegará en hora o con poco retraso."
   ]
  }
 ],
 "metadata": {
  "kernelspec": {
   "display_name": "Python 3",
   "language": "python",
   "name": "python3"
  },
  "language_info": {
   "codemirror_mode": {
    "name": "ipython",
    "version": 3
   },
   "file_extension": ".py",
   "mimetype": "text/x-python",
   "name": "python",
   "nbconvert_exporter": "python",
   "pygments_lexer": "ipython3",
   "version": "3.6.7"
  }
 },
 "nbformat": 4,
 "nbformat_minor": 1
}
